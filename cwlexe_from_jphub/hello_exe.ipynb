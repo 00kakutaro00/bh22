{
 "cells": [
  {
   "cell_type": "markdown",
   "id": "ec4f6bc5-271c-4f10-9829-6745a62c2600",
   "metadata": {},
   "source": [
    "- モチベーション\n",
    "    - CWLをjupyter上から呼び出せたら、便利なのではないかと考えた.\n",
    "        - ex) 出力されたbamを別のツールで変換したい.\n",
    "        - ex) jupyter labだけで実行~解析を完結させたい.\n",
    "    - if,forをpythonで操作できるのも便利.\n",
    "- 方法\n",
    "    - jupyter hubのDockerをで立ち上げる\n",
    "        - 立ち上げ時にdocker.sockをマウント、/tmpもマウントが必要。。\n",
    "    -　cwltool.fuctoryを利用して実行 \n",
    "        - https://github.com/common-workflow-language/cwltool#:~:text=CONFORMANCE_TESTS.md%20.-,Import%20as%20a%20module,-Add\n",
    "- 結論\n",
    "    -　 magicコマンドで cwltool hogehoge.cwl をした方が良いと思いました.\n",
    "    - cwlのFileオブジェクトで大きく詰まりました.. さらに正常終了しても,ファイルの中身に何も出力されていない。。\n",
    "        - factoryを使って実行する場合、File, Directoryはオブジェクトを渡す必要がある.\n",
    "        - https://github.com/common-workflow-language/cwltool/blob/main/cwltool/main.py#:~:text=def%20generate_example_input("
   ]
  },
  {
   "cell_type": "markdown",
   "id": "05408d05-192c-4895-aa20-5c82341eca62",
   "metadata": {},
   "source": [
    "\n",
    "\n",
    "## echo.cwlの生成"
   ]
  },
  {
   "cell_type": "code",
   "execution_count": 79,
   "id": "993982f2-2016-43b5-9aa1-bf35a717be14",
   "metadata": {},
   "outputs": [
    {
     "name": "stdout",
     "output_type": "stream",
     "text": [
      "Writing cwls/echo.cwl\n"
     ]
    }
   ],
   "source": [
    "%%writefile cwls/echo.cwl\n",
    "\n",
    "cwlVersion: v1.2\n",
    "class: CommandLineTool\n",
    "baseCommand: \"echo\"\n",
    "hints:\n",
    "    DockerRequirement:\n",
    "        dockerPull: biocontainers/htseq:v0.11.2-1-deb-py3_cv1\n",
    "stdout: hello.txt\n",
    "inputs:\n",
    "    inp1:\n",
    "        type: string\n",
    "        default: \"Hello CWL\"\n",
    "        inputBinding:\n",
    "            position: 1\n",
    "    inp2:\n",
    "        type: string\n",
    "        default: \"Hello jupyter\"\n",
    "        inputBinding:\n",
    "            position: 2\n",
    "outputs:\n",
    "    output:\n",
    "        type: stdout"
   ]
  },
  {
   "cell_type": "code",
   "execution_count": 83,
   "id": "834a60bc-1277-4f98-8c80-1f42a90e0a51",
   "metadata": {},
   "outputs": [
    {
     "name": "stdout",
     "output_type": "stream",
     "text": [
      "\u001b[1;30mINFO\u001b[0m /usr/local/bin/cwltool 3.1.20220907141119\n",
      "\u001b[1;30mINFO\u001b[0m Resolved 'cwls/echo.cwl' to 'file:///workspace/cwls/echo.cwl'\n",
      "cwls/echo.cwl is valid CWL.\n"
     ]
    }
   ],
   "source": [
    "!cwltool --validate cwls/echo.cwl"
   ]
  },
  {
   "cell_type": "markdown",
   "id": "a4ea62b7-efa3-4572-876d-cc3fe870ebc8",
   "metadata": {},
   "source": [
    "## cwltool.factoryを用いたecho.cwlの実行"
   ]
  },
  {
   "cell_type": "code",
   "execution_count": 81,
   "id": "fe2960ef-c1b2-46ee-bc30-4ffe5b416d36",
   "metadata": {},
   "outputs": [
    {
     "name": "stderr",
     "output_type": "stream",
     "text": [
      "Resolved './cwls/echo.cwl' to 'file:///workspace/cwls/echo.cwl'\n",
      "[job echo.cwl_5] /tmp/g3lpiik8$ docker \\\n",
      "    run \\\n",
      "    -i \\\n",
      "    --mount=type=bind,source=/tmp/g3lpiik8,target=/BPNEWS \\\n",
      "    --mount=type=bind,source=/tmp/fbmdvm0p,target=/tmp \\\n",
      "    --workdir=/BPNEWS \\\n",
      "    --read-only=true \\\n",
      "    --net=none \\\n",
      "    --log-driver=none \\\n",
      "    --user=0:0 \\\n",
      "    --rm \\\n",
      "    --env=TMPDIR=/tmp \\\n",
      "    --env=HOME=/BPNEWS \\\n",
      "    biocontainers/htseq:v0.11.2-1-deb-py3_cv1 \\\n",
      "    echo \\\n",
      "    hello \\\n",
      "    test > /tmp/g3lpiik8/hello.txt\n"
     ]
    },
    {
     "name": "stdout",
     "output_type": "stream",
     "text": [
      "True\n",
      "None\n"
     ]
    },
    {
     "name": "stderr",
     "output_type": "stream",
     "text": [
      "[job echo.cwl_5] completed success\n"
     ]
    }
   ],
   "source": [
    "import cwltool\n",
    "import cwltool.factory\n",
    "\n",
    "fac = cwltool.factory.Factory()\n",
    "print( fac.runtime_context.rm_tmpdir )\n",
    "print( fac.runtime_context.outdir )\n",
    "\n",
    "fac.runtime_context.rm_tmpdir = False\n",
    "fac.runtime_context.outdir = \"./test/\"\n",
    "\n",
    "echo = fac.make(\"./cwls/echo.cwl\")\n",
    "result = echo(inp1=\"hello\", inp2=\"test\")"
   ]
  },
  {
   "cell_type": "code",
   "execution_count": 58,
   "id": "03474ee9-75b9-4e61-842f-a0749b97bccc",
   "metadata": {},
   "outputs": [
    {
     "name": "stdout",
     "output_type": "stream",
     "text": [
      "hello test\n"
     ]
    }
   ],
   "source": [
    "!cat ./test/hello.txt"
   ]
  },
  {
   "cell_type": "markdown",
   "id": "c432db47-2cec-4ba9-b1ab-6e1aa8e0ec27",
   "metadata": {},
   "source": [
    "## seqkit_fx2tab.cwlの実行"
   ]
  },
  {
   "cell_type": "code",
   "execution_count": 16,
   "id": "8f53c5af-de63-447a-bfcd-89f289ea565b",
   "metadata": {},
   "outputs": [
    {
     "name": "stdout",
     "output_type": "stream",
     "text": [
      "\u001b[1;30mINFO\u001b[0m /usr/local/bin/cwltool 3.1.20220907141119\n",
      "\u001b[1;30mINFO\u001b[0m Resolved './cwls/seqkit_fx2tab.cwl' to 'file:///workspace/cwls/seqkit_fx2tab.cwl'\n",
      "./cwls/seqkit_fx2tab.cwl is valid CWL.\n"
     ]
    }
   ],
   "source": [
    "!cwltool --validate ./cwls/seqkit_fx2tab.cwl"
   ]
  },
  {
   "cell_type": "code",
   "execution_count": 17,
   "id": "7d1db3ed-59e0-4210-bd76-c80293c0e631",
   "metadata": {
    "collapsed": true,
    "jupyter": {
     "outputs_hidden": true
    },
    "tags": []
   },
   "outputs": [
    {
     "name": "stderr",
     "output_type": "stream",
     "text": [
      "Resolved './cwls/seqkit_fx2tab.cwl' to 'file:///workspace/cwls/seqkit_fx2tab.cwl'\n"
     ]
    },
    {
     "name": "stdout",
     "output_type": "stream",
     "text": [
      "True\n",
      "None\n"
     ]
    },
    {
     "ename": "WorkflowException",
     "evalue": "Invalid job input record:\nthe `fastx` field is not valid because\n  is not a dict",
     "output_type": "error",
     "traceback": [
      "\u001b[0;31m---------------------------------------------------------------------------\u001b[0m",
      "\u001b[0;31mValidationException\u001b[0m                       Traceback (most recent call last)",
      "File \u001b[0;32m/usr/local/lib/python3.8/dist-packages/cwltool/process.py:801\u001b[0m, in \u001b[0;36mProcess._init_job\u001b[0;34m(self, joborder, runtime_context)\u001b[0m\n\u001b[1;32m    798\u001b[0m     \u001b[38;5;28;01mraise\u001b[39;00m WorkflowException(\n\u001b[1;32m    799\u001b[0m         \u001b[38;5;124m\"\u001b[39m\u001b[38;5;124mMissing input record schema: \u001b[39m\u001b[38;5;124m\"\u001b[39m \u001b[38;5;124m\"\u001b[39m\u001b[38;5;132;01m{}\u001b[39;00m\u001b[38;5;124m\"\u001b[39m\u001b[38;5;241m.\u001b[39mformat(\u001b[38;5;28mself\u001b[39m\u001b[38;5;241m.\u001b[39mnames)\n\u001b[1;32m    800\u001b[0m     )\n\u001b[0;32m--> 801\u001b[0m \u001b[43mvalidate_ex\u001b[49m\u001b[43m(\u001b[49m\n\u001b[1;32m    802\u001b[0m \u001b[43m    \u001b[49m\u001b[43mschema\u001b[49m\u001b[43m,\u001b[49m\n\u001b[1;32m    803\u001b[0m \u001b[43m    \u001b[49m\u001b[43mjob\u001b[49m\u001b[43m,\u001b[49m\n\u001b[1;32m    804\u001b[0m \u001b[43m    \u001b[49m\u001b[43mstrict\u001b[49m\u001b[38;5;241;43m=\u001b[39;49m\u001b[38;5;28;43;01mFalse\u001b[39;49;00m\u001b[43m,\u001b[49m\n\u001b[1;32m    805\u001b[0m \u001b[43m    \u001b[49m\u001b[43mlogger\u001b[49m\u001b[38;5;241;43m=\u001b[39;49m\u001b[43m_logger_validation_warnings\u001b[49m\u001b[43m,\u001b[49m\n\u001b[1;32m    806\u001b[0m \u001b[43m    \u001b[49m\u001b[43mvocab\u001b[49m\u001b[38;5;241;43m=\u001b[39;49m\u001b[43mINPUT_OBJ_VOCAB\u001b[49m\u001b[43m,\u001b[49m\n\u001b[1;32m    807\u001b[0m \u001b[43m\u001b[49m\u001b[43m)\u001b[49m\n\u001b[1;32m    809\u001b[0m \u001b[38;5;28;01mif\u001b[39;00m load_listing \u001b[38;5;129;01mand\u001b[39;00m load_listing \u001b[38;5;241m!=\u001b[39m \u001b[38;5;124m\"\u001b[39m\u001b[38;5;124mno_listing\u001b[39m\u001b[38;5;124m\"\u001b[39m:\n",
      "File \u001b[0;32m/usr/local/lib/python3.8/dist-packages/schema_salad/validate.py:460\u001b[0m, in \u001b[0;36mvalidate_ex\u001b[0;34m(expected_schema, datum, identifiers, strict, foreign_properties, raise_ex, strict_foreign_properties, logger, skip_foreign_properties, vocab)\u001b[0m\n\u001b[1;32m    459\u001b[0m     \u001b[38;5;28;01melse\u001b[39;00m:\n\u001b[0;32m--> 460\u001b[0m         \u001b[38;5;28;01mraise\u001b[39;00m ValidationException(\u001b[38;5;124m\"\u001b[39m\u001b[38;5;124m\"\u001b[39m, \u001b[38;5;28;01mNone\u001b[39;00m, errors, \u001b[38;5;124m\"\u001b[39m\u001b[38;5;124m*\u001b[39m\u001b[38;5;124m\"\u001b[39m)\n\u001b[1;32m    461\u001b[0m \u001b[38;5;28;01melse\u001b[39;00m:\n",
      "\u001b[0;31mValidationException\u001b[0m: the `fastx` field is not valid because\n  is not a dict",
      "\nThe above exception was the direct cause of the following exception:\n",
      "\u001b[0;31mWorkflowException\u001b[0m                         Traceback (most recent call last)",
      "Cell \u001b[0;32mIn [17], line 11\u001b[0m\n\u001b[1;32m      9\u001b[0m fac\u001b[38;5;241m.\u001b[39mruntime_context\u001b[38;5;241m.\u001b[39moutdir \u001b[38;5;241m=\u001b[39m \u001b[38;5;124m\"\u001b[39m\u001b[38;5;124m./result_seqkit/\u001b[39m\u001b[38;5;124m\"\u001b[39m\n\u001b[1;32m     10\u001b[0m seqkit_1 \u001b[38;5;241m=\u001b[39m fac\u001b[38;5;241m.\u001b[39mmake(\u001b[38;5;124m\"\u001b[39m\u001b[38;5;124m./cwls/seqkit_fx2tab.cwl\u001b[39m\u001b[38;5;124m\"\u001b[39m)\n\u001b[0;32m---> 11\u001b[0m result \u001b[38;5;241m=\u001b[39m \u001b[43mseqkit_1\u001b[49m\u001b[43m(\u001b[49m\u001b[43m \u001b[49m\u001b[43mfastx\u001b[49m\u001b[38;5;241;43m=\u001b[39;49m\u001b[38;5;124;43m\"\u001b[39;49m\u001b[38;5;124;43m./data/il7.fa\u001b[39;49m\u001b[38;5;124;43m\"\u001b[39;49m\u001b[43m \u001b[49m\u001b[43m)\u001b[49m\n",
      "File \u001b[0;32m/usr/local/lib/python3.8/dist-packages/cwltool/factory.py:32\u001b[0m, in \u001b[0;36mCallable.__call__\u001b[0;34m(self, **kwargs)\u001b[0m\n\u001b[1;32m     30\u001b[0m runtime_context \u001b[38;5;241m=\u001b[39m \u001b[38;5;28mself\u001b[39m\u001b[38;5;241m.\u001b[39mfactory\u001b[38;5;241m.\u001b[39mruntime_context\u001b[38;5;241m.\u001b[39mcopy()\n\u001b[1;32m     31\u001b[0m runtime_context\u001b[38;5;241m.\u001b[39mbasedir \u001b[38;5;241m=\u001b[39m os\u001b[38;5;241m.\u001b[39mgetcwd()\n\u001b[0;32m---> 32\u001b[0m out, status \u001b[38;5;241m=\u001b[39m \u001b[38;5;28;43mself\u001b[39;49m\u001b[38;5;241;43m.\u001b[39;49m\u001b[43mfactory\u001b[49m\u001b[38;5;241;43m.\u001b[39;49m\u001b[43mexecutor\u001b[49m\u001b[43m(\u001b[49m\u001b[38;5;28;43mself\u001b[39;49m\u001b[38;5;241;43m.\u001b[39;49m\u001b[43mt\u001b[49m\u001b[43m,\u001b[49m\u001b[43m \u001b[49m\u001b[43mkwargs\u001b[49m\u001b[43m,\u001b[49m\u001b[43m \u001b[49m\u001b[43mruntime_context\u001b[49m\u001b[43m)\u001b[49m\n\u001b[1;32m     33\u001b[0m \u001b[38;5;28;01mif\u001b[39;00m status \u001b[38;5;241m!=\u001b[39m \u001b[38;5;124m\"\u001b[39m\u001b[38;5;124msuccess\u001b[39m\u001b[38;5;124m\"\u001b[39m:\n\u001b[1;32m     34\u001b[0m     \u001b[38;5;28;01mraise\u001b[39;00m WorkflowStatus(out, status)\n",
      "File \u001b[0;32m/usr/local/lib/python3.8/dist-packages/cwltool/executors.py:60\u001b[0m, in \u001b[0;36mJobExecutor.__call__\u001b[0;34m(self, process, job_order_object, runtime_context, logger)\u001b[0m\n\u001b[1;32m     52\u001b[0m \u001b[38;5;28;01mdef\u001b[39;00m \u001b[38;5;21m__call__\u001b[39m(\n\u001b[1;32m     53\u001b[0m     \u001b[38;5;28mself\u001b[39m,\n\u001b[1;32m     54\u001b[0m     process: Process,\n\u001b[0;32m   (...)\u001b[0m\n\u001b[1;32m     57\u001b[0m     logger: logging\u001b[38;5;241m.\u001b[39mLogger \u001b[38;5;241m=\u001b[39m _logger,\n\u001b[1;32m     58\u001b[0m ) \u001b[38;5;241m-\u001b[39m\u001b[38;5;241m>\u001b[39m Tuple[Optional[CWLObjectType], \u001b[38;5;28mstr\u001b[39m]:\n\u001b[0;32m---> 60\u001b[0m     \u001b[38;5;28;01mreturn\u001b[39;00m \u001b[38;5;28;43mself\u001b[39;49m\u001b[38;5;241;43m.\u001b[39;49m\u001b[43mexecute\u001b[49m\u001b[43m(\u001b[49m\u001b[43mprocess\u001b[49m\u001b[43m,\u001b[49m\u001b[43m \u001b[49m\u001b[43mjob_order_object\u001b[49m\u001b[43m,\u001b[49m\u001b[43m \u001b[49m\u001b[43mruntime_context\u001b[49m\u001b[43m,\u001b[49m\u001b[43m \u001b[49m\u001b[43mlogger\u001b[49m\u001b[43m)\u001b[49m\n",
      "File \u001b[0;32m/usr/local/lib/python3.8/dist-packages/cwltool/executors.py:143\u001b[0m, in \u001b[0;36mJobExecutor.execute\u001b[0;34m(self, process, job_order_object, runtime_context, logger)\u001b[0m\n\u001b[1;32m    140\u001b[0m     \u001b[38;5;28;01mfor\u001b[39;00m req \u001b[38;5;129;01min\u001b[39;00m job_reqs:\n\u001b[1;32m    141\u001b[0m         process\u001b[38;5;241m.\u001b[39mrequirements\u001b[38;5;241m.\u001b[39mappend(req)\n\u001b[0;32m--> 143\u001b[0m \u001b[38;5;28;43mself\u001b[39;49m\u001b[38;5;241;43m.\u001b[39;49m\u001b[43mrun_jobs\u001b[49m\u001b[43m(\u001b[49m\u001b[43mprocess\u001b[49m\u001b[43m,\u001b[49m\u001b[43m \u001b[49m\u001b[43mjob_order_object\u001b[49m\u001b[43m,\u001b[49m\u001b[43m \u001b[49m\u001b[43mlogger\u001b[49m\u001b[43m,\u001b[49m\u001b[43m \u001b[49m\u001b[43mruntime_context\u001b[49m\u001b[43m)\u001b[49m\n\u001b[1;32m    145\u001b[0m \u001b[38;5;28;01mif\u001b[39;00m (\n\u001b[1;32m    146\u001b[0m     \u001b[38;5;28mself\u001b[39m\u001b[38;5;241m.\u001b[39mfinal_output\n\u001b[1;32m    147\u001b[0m     \u001b[38;5;129;01mand\u001b[39;00m \u001b[38;5;28mself\u001b[39m\u001b[38;5;241m.\u001b[39mfinal_output[\u001b[38;5;241m0\u001b[39m] \u001b[38;5;129;01mis\u001b[39;00m \u001b[38;5;129;01mnot\u001b[39;00m \u001b[38;5;28;01mNone\u001b[39;00m\n\u001b[1;32m    148\u001b[0m     \u001b[38;5;129;01mand\u001b[39;00m finaloutdir \u001b[38;5;129;01mis\u001b[39;00m \u001b[38;5;129;01mnot\u001b[39;00m \u001b[38;5;28;01mNone\u001b[39;00m\n\u001b[1;32m    149\u001b[0m ):\n\u001b[1;32m    150\u001b[0m     \u001b[38;5;28mself\u001b[39m\u001b[38;5;241m.\u001b[39mfinal_output[\u001b[38;5;241m0\u001b[39m] \u001b[38;5;241m=\u001b[39m relocateOutputs(\n\u001b[1;32m    151\u001b[0m         \u001b[38;5;28mself\u001b[39m\u001b[38;5;241m.\u001b[39mfinal_output[\u001b[38;5;241m0\u001b[39m],\n\u001b[1;32m    152\u001b[0m         finaloutdir,\n\u001b[0;32m   (...)\u001b[0m\n\u001b[1;32m    157\u001b[0m         path_mapper\u001b[38;5;241m=\u001b[39mruntime_context\u001b[38;5;241m.\u001b[39mpath_mapper,\n\u001b[1;32m    158\u001b[0m     )\n",
      "File \u001b[0;32m/usr/local/lib/python3.8/dist-packages/cwltool/executors.py:228\u001b[0m, in \u001b[0;36mSingleJobExecutor.run_jobs\u001b[0;34m(self, process, job_order_object, logger, runtime_context)\u001b[0m\n\u001b[1;32m    225\u001b[0m jobiter \u001b[38;5;241m=\u001b[39m process\u001b[38;5;241m.\u001b[39mjob(job_order_object, \u001b[38;5;28mself\u001b[39m\u001b[38;5;241m.\u001b[39moutput_callback, runtime_context)\n\u001b[1;32m    227\u001b[0m \u001b[38;5;28;01mtry\u001b[39;00m:\n\u001b[0;32m--> 228\u001b[0m     \u001b[38;5;28;01mfor\u001b[39;00m job \u001b[38;5;129;01min\u001b[39;00m jobiter:\n\u001b[1;32m    229\u001b[0m         \u001b[38;5;28;01mif\u001b[39;00m job \u001b[38;5;129;01mis\u001b[39;00m \u001b[38;5;129;01mnot\u001b[39;00m \u001b[38;5;28;01mNone\u001b[39;00m:\n\u001b[1;32m    230\u001b[0m             \u001b[38;5;28;01mif\u001b[39;00m runtime_context\u001b[38;5;241m.\u001b[39mbuilder \u001b[38;5;129;01mis\u001b[39;00m \u001b[38;5;129;01mnot\u001b[39;00m \u001b[38;5;28;01mNone\u001b[39;00m \u001b[38;5;129;01mand\u001b[39;00m \u001b[38;5;28mhasattr\u001b[39m(job, \u001b[38;5;124m\"\u001b[39m\u001b[38;5;124mbuilder\u001b[39m\u001b[38;5;124m\"\u001b[39m):\n",
      "File \u001b[0;32m/usr/local/lib/python3.8/dist-packages/cwltool/command_line_tool.py:1002\u001b[0m, in \u001b[0;36mCommandLineTool.job\u001b[0;34m(self, job_order, output_callbacks, runtimeContext)\u001b[0m\n\u001b[1;32m    996\u001b[0m             output_callbacks(outputs, processStatus)\n\u001b[1;32m    998\u001b[0m         output_callbacks \u001b[38;5;241m=\u001b[39m partial(\n\u001b[1;32m    999\u001b[0m             update_status_output_callback, output_callbacks, jobcachelock\n\u001b[1;32m   1000\u001b[0m         )\n\u001b[0;32m-> 1002\u001b[0m builder \u001b[38;5;241m=\u001b[39m \u001b[38;5;28;43mself\u001b[39;49m\u001b[38;5;241;43m.\u001b[39;49m\u001b[43m_init_job\u001b[49m\u001b[43m(\u001b[49m\u001b[43mjob_order\u001b[49m\u001b[43m,\u001b[49m\u001b[43m \u001b[49m\u001b[43mruntimeContext\u001b[49m\u001b[43m)\u001b[49m\n\u001b[1;32m   1004\u001b[0m reffiles \u001b[38;5;241m=\u001b[39m copy\u001b[38;5;241m.\u001b[39mdeepcopy(builder\u001b[38;5;241m.\u001b[39mfiles)\n\u001b[1;32m   1006\u001b[0m j \u001b[38;5;241m=\u001b[39m \u001b[38;5;28mself\u001b[39m\u001b[38;5;241m.\u001b[39mmake_job_runner(runtimeContext)(\n\u001b[1;32m   1007\u001b[0m     builder,\n\u001b[1;32m   1008\u001b[0m     builder\u001b[38;5;241m.\u001b[39mjob,\n\u001b[0;32m   (...)\u001b[0m\n\u001b[1;32m   1012\u001b[0m     jobname,\n\u001b[1;32m   1013\u001b[0m )\n",
      "File \u001b[0;32m/usr/local/lib/python3.8/dist-packages/cwltool/process.py:852\u001b[0m, in \u001b[0;36mProcess._init_job\u001b[0;34m(self, joborder, runtime_context)\u001b[0m\n\u001b[1;32m    832\u001b[0m                 _logger\u001b[38;5;241m.\u001b[39mwarning(\n\u001b[1;32m    833\u001b[0m                     strip_dup_lineno(\n\u001b[1;32m    834\u001b[0m                         SourceLine(\u001b[38;5;28mself\u001b[39m\u001b[38;5;241m.\u001b[39mtool[\u001b[38;5;124m\"\u001b[39m\u001b[38;5;124minputs\u001b[39m\u001b[38;5;124m\"\u001b[39m], i, \u001b[38;5;28mstr\u001b[39m)\u001b[38;5;241m.\u001b[39mmakeError(\n\u001b[0;32m   (...)\u001b[0m\n\u001b[1;32m    848\u001b[0m                     )\n\u001b[1;32m    849\u001b[0m                 )\n\u001b[1;32m    851\u001b[0m \u001b[38;5;28;01mexcept\u001b[39;00m (ValidationException, WorkflowException) \u001b[38;5;28;01mas\u001b[39;00m err:\n\u001b[0;32m--> 852\u001b[0m     \u001b[38;5;28;01mraise\u001b[39;00m WorkflowException(\u001b[38;5;124m\"\u001b[39m\u001b[38;5;124mInvalid job input record:\u001b[39m\u001b[38;5;130;01m\\n\u001b[39;00m\u001b[38;5;124m\"\u001b[39m \u001b[38;5;241m+\u001b[39m \u001b[38;5;28mstr\u001b[39m(err)) \u001b[38;5;28;01mfrom\u001b[39;00m \u001b[38;5;21;01merr\u001b[39;00m\n\u001b[1;32m    854\u001b[0m files \u001b[38;5;241m=\u001b[39m []  \u001b[38;5;66;03m# type: List[CWLObjectType]\u001b[39;00m\n\u001b[1;32m    855\u001b[0m bindings \u001b[38;5;241m=\u001b[39m CommentedSeq()\n",
      "\u001b[0;31mWorkflowException\u001b[0m: Invalid job input record:\nthe `fastx` field is not valid because\n  is not a dict"
     ]
    }
   ],
   "source": [
    "## 失敗例：fastxに渡すパラメータが文字列のため、エラーを吐く\n",
    "import cwltool\n",
    "import cwltool.factory\n",
    "\n",
    "fac = cwltool.factory.Factory()\n",
    "print( fac.runtime_context.rm_tmpdir )\n",
    "print( fac.runtime_context.outdir )\n",
    "\n",
    "fac.runtime_context.rm_tmpdir = False\n",
    "fac.runtime_context.outdir = \"./result_seqkit/\"\n",
    "seqkit_1 = fac.make(\"./cwls/seqkit_fx2tab.cwl\")\n",
    "result = seqkit_1( fastx=\"./data/il7.fa\" )\n"
   ]
  },
  {
   "cell_type": "code",
   "execution_count": 25,
   "id": "bb48d0c1-cb97-4d53-817d-664109963873",
   "metadata": {},
   "outputs": [
    {
     "name": "stderr",
     "output_type": "stream",
     "text": [
      "Resolved './cwls/seqkit_fx2tab.cwl' to 'file:///workspace/cwls/seqkit_fx2tab.cwl'\n",
      "[job seqkit_fx2tab.cwl_12] /tmp/mh4pox1s$ docker \\\n",
      "    run \\\n",
      "    -i \\\n",
      "    --mount=type=bind,source=/tmp/mh4pox1s,target=/WeXvjW \\\n",
      "    --mount=type=bind,source=/tmp/jawsc2l4,target=/tmp \\\n",
      "    --mount=type=bind,source=/tmp/vvp4wivi/il7.fa,target=/var/lib/cwl/stg791eb8af-eb50-46b5-85a4-dc9d13213752/il7.fa,readonly \\\n",
      "    --workdir=/WeXvjW \\\n",
      "    --read-only=true \\\n",
      "    --log-driver=none \\\n",
      "    --user=0:0 \\\n",
      "    --rm \\\n",
      "    --env=TMPDIR=/tmp \\\n",
      "    --env=HOME=/WeXvjW \\\n",
      "    pegi3s/seqkit:2.3.0 \\\n",
      "    fx2tab \\\n",
      "    /var/lib/cwl/stg791eb8af-eb50-46b5-85a4-dc9d13213752/il7.fa > /tmp/mh4pox1s/hoge.tsv\n"
     ]
    },
    {
     "name": "stdout",
     "output_type": "stream",
     "text": [
      "True\n",
      "None\n"
     ]
    },
    {
     "name": "stderr",
     "output_type": "stream",
     "text": [
      "[job seqkit_fx2tab.cwl_12] completed success\n"
     ]
    }
   ],
   "source": [
    "## 成功例：fastxにFile objectを渡す.\n",
    "\n",
    "import cwltool\n",
    "import cwltool.factory\n",
    "\n",
    "fac = cwltool.factory.Factory()\n",
    "print( fac.runtime_context.rm_tmpdir )\n",
    "print( fac.runtime_context.outdir )\n",
    "\n",
    "fac.runtime_context.rm_tmpdir = False\n",
    "fac.runtime_context.outdir = \"./result_seqkit/\"\n",
    "\n",
    "seqkit_1 = fac.make(\"./cwls/seqkit_fx2tab.cwl\")\n",
    "# fastx_obj = cwltool.hogehoge\n",
    "result = seqkit_1(outputname=\"hoge.tsv\", fastx= {\"class\": \"File\", \"path\":\"./data/il7.fa\",\"basename\":\"il7.fa\", \"contents\":\"\"} )\n",
    "\n"
   ]
  },
  {
   "cell_type": "code",
   "execution_count": 28,
   "id": "c380ffc1-c4c2-4271-a752-b39a61daf343",
   "metadata": {},
   "outputs": [],
   "source": [
    "!cat ./result_seqkit/hoge.tsv"
   ]
  },
  {
   "cell_type": "markdown",
   "id": "5a2225c9-c4a2-4e78-8341-9a59dc5d7474",
   "metadata": {},
   "source": [
    "- 何故かカラ\n",
    "- 良くわからないので、ここで諦める"
   ]
  },
  {
   "cell_type": "code",
   "execution_count": null,
   "id": "680cef16-790a-4ea5-8132-8c6ebfe8f1f3",
   "metadata": {},
   "outputs": [],
   "source": []
  },
  {
   "cell_type": "markdown",
   "id": "a88e42cf-b0a8-4abf-8742-2be63aa83d21",
   "metadata": {},
   "source": [
    "- cwlに置いて、ファイルオボジェクトがどう表現されているか、cwltool の中にobjectがあるはず。"
   ]
  },
  {
   "cell_type": "code",
   "execution_count": null,
   "id": "0939b7f5-13f5-4ef3-8d28-e0559914daa1",
   "metadata": {},
   "outputs": [],
   "source": []
  }
 ],
 "metadata": {
  "kernelspec": {
   "display_name": "Python 3 (ipykernel)",
   "language": "python",
   "name": "python3"
  },
  "language_info": {
   "codemirror_mode": {
    "name": "ipython",
    "version": 3
   },
   "file_extension": ".py",
   "mimetype": "text/x-python",
   "name": "python",
   "nbconvert_exporter": "python",
   "pygments_lexer": "ipython3",
   "version": "3.8.10"
  }
 },
 "nbformat": 4,
 "nbformat_minor": 5
}
